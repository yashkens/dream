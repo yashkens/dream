{
 "cells": [
  {
   "cell_type": "code",
   "execution_count": 24,
   "metadata": {},
   "outputs": [],
   "source": [
    "import numpy as np\n",
    "import pandas as pd\n",
    "import json\n",
    "from tqdm import tqdm\n",
    "from time import time"
   ]
  },
  {
   "cell_type": "code",
   "execution_count": 2,
   "metadata": {},
   "outputs": [
    {
     "name": "stdout",
     "output_type": "stream",
     "text": [
      "--2020-08-28 11:14:50--  https://datasets.imdbws.com/name.basics.tsv.gz\n",
      "Resolving datasets.imdbws.com (datasets.imdbws.com)... 13.33.242.82, 13.33.242.54, 13.33.242.62, ...\n",
      "Connecting to datasets.imdbws.com (datasets.imdbws.com)|13.33.242.82|:443... connected.\n",
      "HTTP request sent, awaiting response... 200 OK\n",
      "Length: 202568893 (193M) [binary/octet-stream]\n",
      "Saving to: ‘name.basics.tsv.gz.5’\n",
      "\n",
      "name.basics.tsv.gz. 100%[===================>] 193,18M  4,43MB/s    in 44s     \n",
      "\n",
      "2020-08-28 11:15:35 (4,36 MB/s) - ‘name.basics.tsv.gz.5’ saved [202568893/202568893]\n",
      "\n",
      "--2020-08-28 11:15:35--  https://datasets.imdbws.com/title.ratings.tsv.gz\n",
      "Resolving datasets.imdbws.com (datasets.imdbws.com)... 13.33.242.82, 13.33.242.54, 13.33.242.62, ...\n",
      "Connecting to datasets.imdbws.com (datasets.imdbws.com)|13.33.242.82|:443... connected.\n",
      "HTTP request sent, awaiting response... 200 OK\n",
      "Length: 5281119 (5,0M) [binary/octet-stream]\n",
      "Saving to: ‘title.ratings.tsv.gz.3’\n",
      "\n",
      "title.ratings.tsv.g 100%[===================>]   5,04M  4,97MB/s    in 1,0s    \n",
      "\n",
      "2020-08-28 11:15:36 (4,97 MB/s) - ‘title.ratings.tsv.gz.3’ saved [5281119/5281119]\n",
      "\n",
      "--2020-08-28 11:15:36--  https://datasets.imdbws.com/title.akas.tsv.gz\n",
      "Resolving datasets.imdbws.com (datasets.imdbws.com)... 13.33.242.82, 13.33.242.54, 13.33.242.62, ...\n",
      "Connecting to datasets.imdbws.com (datasets.imdbws.com)|13.33.242.82|:443... connected.\n",
      "HTTP request sent, awaiting response... 200 OK\n",
      "Length: 201415839 (192M) [binary/octet-stream]\n",
      "Saving to: ‘title.akas.tsv.gz.4’\n",
      "\n",
      "title.akas.tsv.gz.4 100%[===================>] 192,08M  4,42MB/s    in 44s     \n",
      "\n",
      "2020-08-28 11:16:21 (4,36 MB/s) - ‘title.akas.tsv.gz.4’ saved [201415839/201415839]\n",
      "\n",
      "--2020-08-28 11:16:21--  https://datasets.imdbws.com/title.basics.tsv.gz\n",
      "Resolving datasets.imdbws.com (datasets.imdbws.com)... 13.33.242.128, 13.33.242.62, 13.33.242.54, ...\n",
      "Connecting to datasets.imdbws.com (datasets.imdbws.com)|13.33.242.128|:443... connected.\n",
      "HTTP request sent, awaiting response... 200 OK\n",
      "Length: 126553320 (121M) [binary/octet-stream]\n",
      "Saving to: ‘title.basics.tsv.gz.3’\n",
      "\n",
      "title.basics.tsv.gz 100%[===================>] 120,69M  4,40MB/s    in 28s     \n",
      "\n",
      "2020-08-28 11:16:50 (4,26 MB/s) - ‘title.basics.tsv.gz.3’ saved [126553320/126553320]\n",
      "\n",
      "--2020-08-28 11:16:50--  https://datasets.imdbws.com/title.crew.tsv.gz\n",
      "Resolving datasets.imdbws.com (datasets.imdbws.com)... 13.33.242.82, 13.33.242.54, 13.33.242.62, ...\n",
      "Connecting to datasets.imdbws.com (datasets.imdbws.com)|13.33.242.82|:443... connected.\n",
      "HTTP request sent, awaiting response... 200 OK\n",
      "Length: 49996326 (48M) [binary/octet-stream]\n",
      "Saving to: ‘title.crew.tsv.gz.3’\n",
      "\n",
      "title.crew.tsv.gz.3 100%[===================>]  47,68M  4,27MB/s    in 11s     \n",
      "\n",
      "2020-08-28 11:17:01 (4,51 MB/s) - ‘title.crew.tsv.gz.3’ saved [49996326/49996326]\n",
      "\n",
      "--2020-08-28 11:17:01--  https://datasets.imdbws.com/title.episode.tsv.gz\n",
      "Resolving datasets.imdbws.com (datasets.imdbws.com)... 13.33.242.82, 13.33.242.54, 13.33.242.62, ...\n",
      "Connecting to datasets.imdbws.com (datasets.imdbws.com)|13.33.242.82|:443... connected.\n",
      "HTTP request sent, awaiting response... 200 OK\n",
      "Length: 27786061 (26M) [binary/octet-stream]\n",
      "Saving to: ‘title.episode.tsv.gz.6’\n",
      "\n",
      "title.episode.tsv.g 100%[===================>]  26,50M  4,50MB/s    in 5,7s    \n",
      "\n",
      "2020-08-28 11:17:06 (4,68 MB/s) - ‘title.episode.tsv.gz.6’ saved [27786061/27786061]\n",
      "\n",
      "--2020-08-28 11:17:07--  https://datasets.imdbws.com/title.principals.tsv.gz\n",
      "Resolving datasets.imdbws.com (datasets.imdbws.com)... 13.33.242.82, 13.33.242.54, 13.33.242.62, ...\n",
      "Connecting to datasets.imdbws.com (datasets.imdbws.com)|13.33.242.82|:443... connected.\n",
      "HTTP request sent, awaiting response... 200 OK\n",
      "Length: 364637000 (348M) [binary/octet-stream]\n",
      "Saving to: ‘title.principals.tsv.gz.3’\n",
      "\n",
      "title.principals.ts 100%[===================>] 347,74M  3,94MB/s    in 80s     \n",
      "\n",
      "2020-08-28 11:18:27 (4,34 MB/s) - ‘title.principals.tsv.gz.3’ saved [364637000/364637000]\n",
      "\n",
      "--2020-08-28 11:18:27--  https://datasets.imdbws.com/title.episode.tsv.gz\n",
      "Resolving datasets.imdbws.com (datasets.imdbws.com)... 13.33.242.128, 13.33.242.54, 13.33.242.82, ...\n",
      "Connecting to datasets.imdbws.com (datasets.imdbws.com)|13.33.242.128|:443... connected.\n",
      "HTTP request sent, awaiting response... 200 OK\n",
      "Length: 27786061 (26M) [binary/octet-stream]\n",
      "Saving to: ‘title.episode.tsv.gz.7’\n",
      "\n",
      "title.episode.tsv.g 100%[===================>]  26,50M  3,83MB/s    in 6,6s    \n",
      "\n",
      "2020-08-28 11:18:34 (3,99 MB/s) - ‘title.episode.tsv.gz.7’ saved [27786061/27786061]\n",
      "\n"
     ]
    }
   ],
   "source": [
    "! wget https://datasets.imdbws.com/name.basics.tsv.gz \n",
    "! wget https://datasets.imdbws.com/title.ratings.tsv.gz\n",
    "! wget https://datasets.imdbws.com/title.akas.tsv.gz\n",
    "! wget https://datasets.imdbws.com/title.basics.tsv.gz\n",
    "! wget https://datasets.imdbws.com/title.crew.tsv.gz\n",
    "! wget https://datasets.imdbws.com/title.episode.tsv.gz\n",
    "! wget https://datasets.imdbws.com/title.principals.tsv.gz\n",
    "! wget https://datasets.imdbws.com/title.episode.tsv.gz"
   ]
  },
  {
   "cell_type": "markdown",
   "metadata": {},
   "source": [
    "# Choose imdb-ids of most popular movies"
   ]
  },
  {
   "cell_type": "code",
   "execution_count": 147,
   "metadata": {},
   "outputs": [],
   "source": [
    "fpath = \"./title.ratings.tsv.gz\"\n",
    "\n",
    "df_ratings = pd.read_table(fpath)\n",
    "# print(df_ratings.head())\n",
    "\n",
    "df = pd.read_table(\"./title.basics.tsv.gz\", na_values={\"startYear\": [\"\\\\N\"], \"endYear\": [\"\\\\N\"], \"isAdult\": [\"\\\\N\"]})\n",
    "# print(df.head())\n",
    "\n",
    "df = df.merge(df_ratings, on=\"tconst\")\n",
    "\n",
    "#fill start year values\n",
    "df[\"startYear\"] = df[\"startYear\"].fillna(value=df[\"startYear\"])\n",
    "# print(df[\"startYear\"].isna().any())\n",
    "\n",
    "df[\"startYear\"] = df[\"startYear\"].fillna(value=0)\n",
    "# print(df[\"startYear\"].isna().any())\n",
    "\n",
    "df[\"endYear\"] = df[\"endYear\"].fillna(value=df[\"startYear\"])\n",
    "# print(df[\"endYear\"].isna().any())\n",
    "\n",
    "df[\"isAdult\"] = df[\"isAdult\"].fillna(value=0)\n",
    "# print(df[\"isAdult\"].isna().any())\n",
    "\n",
    "df = df.astype(dtype={\"startYear\": np.int32, \n",
    "                 \"endYear\": np.int32, \n",
    "                 \"isAdult\": np.int32})\n",
    "# print(df.head())\n",
    "# print(df[\"titleType\"].unique())"
   ]
  },
  {
   "cell_type": "code",
   "execution_count": 148,
   "metadata": {},
   "outputs": [
    {
     "name": "stdout",
     "output_type": "stream",
     "text": [
      "(572990, 11)\n"
     ]
    }
   ],
   "source": [
    "target = [\"movie\", \"tvMovie\", \"tvSeries\", \"tvMiniSeries\"] \n",
    "ind_drop = df[~df['titleType'].isin(target)].index\n",
    "df = df.drop(ind_drop)\n",
    "print(df.shape)"
   ]
  },
  {
   "cell_type": "code",
   "execution_count": 149,
   "metadata": {},
   "outputs": [
    {
     "name": "stdout",
     "output_type": "stream",
     "text": [
      "60300\n",
      "113162\n",
      "Total length of the database: 69470\n"
     ]
    }
   ],
   "source": [
    "collect_movies_based_on_rating = False\n",
    "collect_movies_based_on_numvotes = True\n",
    "\n",
    "if collect_movies_based_on_rating:\n",
    "\n",
    "    movies_ids = []\n",
    "\n",
    "    movies_ids.extend(df.loc[(df[\"startYear\"] <= 1990)  & (df[\"averageRating\"] > 8), \"tconst\"].values)\n",
    "    print(len(movies_ids))\n",
    "\n",
    "    movies_ids.extend(df.loc[(df[\"startYear\"] > 1990) & (df[\"startYear\"] <= 2005) & (df[\"averageRating\"] > 7), \"tconst\"].values)\n",
    "    print(len(movies_ids))\n",
    "\n",
    "    movies_ids.extend(df.loc[(df[\"startYear\"] > 2005) & (df[\"startYear\"] <= 2015) & (df[\"averageRating\"] > 7), \"tconst\"].values)\n",
    "    print(len(movies_ids))\n",
    "\n",
    "    movies_ids.extend(df.loc[(df[\"startYear\"] > 2015) & (df[\"startYear\"] <= 2020) & (df[\"averageRating\"] > 6), \"tconst\"].values)\n",
    "    print(len(movies_ids))\n",
    "\n",
    "    with open(\"all_imdb_ids.txt\", \"w\") as f:\n",
    "        for movie_id in movies_ids:\n",
    "            f.write(str(movie_id) + \"\\n\")\n",
    "\n",
    "if collect_movies_based_on_numvotes:\n",
    "\n",
    "    movies_ids = []\n",
    "\n",
    "    movies_ids.extend(df.loc[df.loc[:, \"numVotes\"] > 1000, \"tconst\"].values)\n",
    "    print(len(movies_ids))\n",
    "\n",
    "    movies_ids.extend(df.loc[df.loc[:, \"averageRating\"] > 8., \"tconst\"].values)\n",
    "    print(len(movies_ids))\n",
    "    \n",
    "    movies_ids = list(set(movies_ids))\n",
    "    print(f\"Total length of the database: {len(movies_ids)}\")\n",
    "\n",
    "    with open(\"most_popular_imdb_ids.txt\", \"w\") as f:\n",
    "        for movie_id in movies_ids:\n",
    "            f.write(str(movie_id) + \"\\n\")"
   ]
  },
  {
   "cell_type": "code",
   "execution_count": 150,
   "metadata": {},
   "outputs": [
    {
     "name": "stdout",
     "output_type": "stream",
     "text": [
      "Total number of considered movies: 69470\n"
     ]
    }
   ],
   "source": [
    "with open(\"most_popular_imdb_ids.txt\", \"r\") as f:\n",
    "    all_movies_ids = f.read().splitlines()\n",
    "    \n",
    "all_movies_ids = list(set(all_movies_ids))\n",
    "print(f\"Total number of considered movies: {len(all_movies_ids)}\")"
   ]
  },
  {
   "cell_type": "markdown",
   "metadata": {},
   "source": [
    "# Collect titles and ratings"
   ]
  },
  {
   "cell_type": "code",
   "execution_count": 156,
   "metadata": {},
   "outputs": [
    {
     "name": "stdout",
     "output_type": "stream",
     "text": [
      "Total time: 15.78906536102295\n"
     ]
    }
   ],
   "source": [
    "t0 = time()\n",
    "fpath = \"./title.ratings.tsv.gz\"\n",
    "df_ratings = pd.read_table(fpath)\n",
    "\n",
    "ind_drop = df_ratings[~df_ratings['tconst'].isin(all_movies_ids)].index\n",
    "df_ratings = df_ratings.drop(ind_drop)\n",
    "assert df_ratings.shape[0] == len(all_movies_ids), print(\"Number of samples less than number of movies\")\n",
    "# print(df_ratings.head())\n",
    "\n",
    "\n",
    "fpath = \"./title.basics.tsv.gz\"\n",
    "\n",
    "df = pd.read_table(fpath, na_values={\"startYear\": [\"\\\\N\"], \"endYear\": [\"\\\\N\"], \"isAdult\": [\"\\\\N\"]})\n",
    "# print(df.head())\n",
    "\n",
    "ind_drop = df[~df['tconst'].isin(all_movies_ids)].index\n",
    "df = df.drop(ind_drop)\n",
    "\n",
    "df = df.merge(df_ratings, on=\"tconst\")\n",
    "\n",
    "df.rename(columns={\"originalTitle\": \"original title\",\n",
    "                   \"primaryTitle\": \"title\",\n",
    "                   \"genres\": \"genre\",\n",
    "                   \"averageRating\": \"imdb_rating\",\n",
    "                   \"tconst\": \"imdb_id\"\n",
    "                  }, inplace=True)\n",
    "\n",
    "# print(df.head())\n",
    "df.drop_duplicates(inplace=True)\n",
    "# print(df.shape)\n",
    "\n",
    "df[\"titleType\"] = df[\"titleType\"].apply(lambda x: \"Series\" if \"Series\" in x else \"\")\n",
    "df[\"genre\"] = [\",\".join([x,y]) if y != \"\" else x for x,y in zip(df[\"genre\"], df[\"titleType\"])]\n",
    "df[\"genre\"] = df[\"genre\"].apply(lambda x: x if x != \"\\\\N\" else \"\")\n",
    "df[\"genre\"] = df[\"genre\"].apply(lambda x: x.split(\",\"))\n",
    "\n",
    "df.fillna({\"startYear\": 0, \"endYear\": 0}, inplace=True)\n",
    "df[\"startYear\"] = df[\"startYear\"].astype(\"int\")\n",
    "df[\"endYear\"] = df[\"endYear\"].astype(\"int\")\n",
    "df.drop([\"titleType\", \"isAdult\", \"runtimeMinutes\"], axis=1, inplace=True)\n",
    "assert df.shape[0] == len(all_movies_ids), print(\"Number of samples less than number of movies\")\n",
    "\n",
    "print(f\"Total time: {time() - t0}\")"
   ]
  },
  {
   "cell_type": "markdown",
   "metadata": {},
   "source": [
    "# Collect names of actors etc"
   ]
  },
  {
   "cell_type": "code",
   "execution_count": 157,
   "metadata": {},
   "outputs": [
    {
     "name": "stdout",
     "output_type": "stream",
     "text": [
      "Total time: 54.29540514945984\n"
     ]
    }
   ],
   "source": [
    "t0 = time()\n",
    "fpath = \"./title.principals.tsv.gz\"\n",
    "\n",
    "df_principals = pd.read_table(fpath)\n",
    "df_principals = df_principals.loc[:, [\"tconst\", \"nconst\", \"ordering\", \"category\"]]\n",
    "df_principals.rename(columns={\"tconst\": \"imdb_id\"}, inplace=True)\n",
    "\n",
    "ind_drop = df_principals[~df_principals['imdb_id'].isin(all_movies_ids)].index\n",
    "df_principals = df_principals.drop(ind_drop)\n",
    "\n",
    "ind_drop = df_principals[~df_principals['ordering'].isin([1, 2, 3, 4, 5, 6])].index\n",
    "df_principals = df_principals.drop(ind_drop)\n",
    "\n",
    "df_principals[\"category\"] = df_principals[\"category\"].apply(lambda x: x if x != \"actress\" else \"actor\")\n",
    "target_profs = [\"director\", \"producer\", \"actor\", \"writer\"] \n",
    "ind_drop = df_principals[~df_principals['category'].isin(target_profs)].index\n",
    "df_principals = df_principals.drop(ind_drop)\n",
    "# print(df_principals.head())\n",
    "    \n",
    "fpath = \"./name.basics.tsv.gz\"\n",
    "\n",
    "df_names = pd.read_table(fpath)\n",
    "df_names = df_names.loc[:, [\"primaryName\", \"nconst\"]]\n",
    "# print(df_names.head())\n",
    "\n",
    "df_principals = df_principals.merge(df_names, on=\"nconst\")\n",
    "\n",
    "print(f\"Total time: {time() - t0}\")"
   ]
  },
  {
   "cell_type": "markdown",
   "metadata": {},
   "source": [
    "# Collect persons"
   ]
  },
  {
   "cell_type": "code",
   "execution_count": 158,
   "metadata": {},
   "outputs": [
    {
     "name": "stdout",
     "output_type": "stream",
     "text": [
      "Total time: 228.78745293617249\n"
     ]
    }
   ],
   "source": [
    "t0 = time()\n",
    "\n",
    "def collect_movie_persons(x):\n",
    "     return pd.Series({f\"{prof}s\": x.loc[x.sort_values(by=[\"ordering\"])[\"category\"] == prof, \"primaryName\"].values\n",
    "                       for prof in [\"director\", \"producer\", \"actor\", \"writer\"]})\n",
    "    \n",
    "df_principals = pd.DataFrame(df_principals.groupby('imdb_id').apply(collect_movie_persons))\n",
    "\n",
    "df.set_index(\"imdb_id\", inplace=True)\n",
    "df = df.join(df_principals, on=\"imdb_id\")\n",
    "df.reset_index(inplace=True)\n",
    "\n",
    "df.fillna(value={f\"{prof}s\": \"\" for prof in target_profs}, inplace=True)\n",
    "\n",
    "assert df.shape[0] == len(all_movies_ids), print(\"Number of samples less than number of movies\")\n",
    "\n",
    "print(f\"Total time: {time() - t0}\")"
   ]
  },
  {
   "cell_type": "code",
   "execution_count": null,
   "metadata": {},
   "outputs": [],
   "source": []
  },
  {
   "cell_type": "markdown",
   "metadata": {},
   "source": [
    "# Collect alternative titles"
   ]
  },
  {
   "cell_type": "code",
   "execution_count": 159,
   "metadata": {},
   "outputs": [
    {
     "name": "stdout",
     "output_type": "stream",
     "text": [
      "(48623, 8)\n",
      "        imdb_id  ordering                                      title region  \\\n",
      "4840  tt0002130        12                            Dante's Inferno     US   \n",
      "6233  tt0002844        10  Fantômas: In the Shadow of the Guillotine     US   \n",
      "6250  tt0002844         6              Fantomas: The Beltham Mystery     US   \n",
      "6603  tt0003037        11                 Fantomas: The Man in Black     US   \n",
      "6606  tt0003037        14             Fantômas: Juve versus Fantômas     US   \n",
      "\n",
      "     language        types    attributes isOriginalTitle  \n",
      "4840       \\N           \\N            \\N               0  \n",
      "6233       \\N  imdbDisplay            \\N               0  \n",
      "6250       \\N           \\N  review title               0  \n",
      "6603       \\N  imdbDisplay            \\N               0  \n",
      "6606       \\N  imdbDisplay            \\N               0  \n",
      "Total time: 20.65169882774353\n"
     ]
    }
   ],
   "source": [
    "t0 = time()\n",
    "\n",
    "fpath = \"./title.akas.tsv.gz\"\n",
    "\n",
    "df_akas = pd.read_table(fpath)\n",
    "# df_akas = df_akas.loc[:, [\"tconst\", \"nconst\", \"ordering\", \"category\"]]\n",
    "df_akas = df_akas.loc[df_akas[\"region\"] == \"US\", :]\n",
    "df_akas.rename(columns={\"titleId\": \"imdb_id\"}, inplace=True)\n",
    "\n",
    "ind_drop = df_akas[~df_akas['imdb_id'].isin(all_movies_ids)].index\n",
    "df_akas = df_akas.drop(ind_drop)\n",
    "print(df_akas.shape)\n",
    "print(df_akas.head())\n",
    "\n",
    "grouped_data = df_akas.groupby('imdb_id')['title'].apply(lambda x: '::'.join(x))\n",
    "df_titles = pd.DataFrame(grouped_data)\n",
    "df_titles.rename(columns={\"title\": \"all_titles\"}, inplace=True)\n",
    "# df_titles.set_index(\"imdb_id\", inplace=True)\n",
    "\n",
    "df.set_index(\"imdb_id\", inplace=True)\n",
    "df = df.join(df_titles, on=\"imdb_id\")\n",
    "df.reset_index(inplace=True)\n",
    "\n",
    "df.fillna(value={\"all_titles\": \"\"}, inplace=True)\n",
    "\n",
    "assert df.shape[0] == len(all_movies_ids), print(\"Number of samples less than number of movies\")\n",
    "\n",
    "print(f\"Total time: {time() - t0}\")"
   ]
  },
  {
   "cell_type": "code",
   "execution_count": 160,
   "metadata": {},
   "outputs": [
    {
     "data": {
      "text/html": [
       "<div>\n",
       "<style scoped>\n",
       "    .dataframe tbody tr th:only-of-type {\n",
       "        vertical-align: middle;\n",
       "    }\n",
       "\n",
       "    .dataframe tbody tr th {\n",
       "        vertical-align: top;\n",
       "    }\n",
       "\n",
       "    .dataframe thead th {\n",
       "        text-align: right;\n",
       "    }\n",
       "</style>\n",
       "<table border=\"1\" class=\"dataframe\">\n",
       "  <thead>\n",
       "    <tr style=\"text-align: right;\">\n",
       "      <th></th>\n",
       "      <th>imdb_id</th>\n",
       "      <th>title</th>\n",
       "      <th>original title</th>\n",
       "      <th>startYear</th>\n",
       "      <th>endYear</th>\n",
       "      <th>genre</th>\n",
       "      <th>imdb_rating</th>\n",
       "      <th>numVotes</th>\n",
       "      <th>directors</th>\n",
       "      <th>producers</th>\n",
       "      <th>actors</th>\n",
       "      <th>writers</th>\n",
       "      <th>all_titles</th>\n",
       "    </tr>\n",
       "  </thead>\n",
       "  <tbody>\n",
       "    <tr>\n",
       "      <td>0</td>\n",
       "      <td>tt0002130</td>\n",
       "      <td>Dante's Inferno</td>\n",
       "      <td>L'Inferno</td>\n",
       "      <td>1911</td>\n",
       "      <td>0</td>\n",
       "      <td>[Adventure, Drama, Fantasy]</td>\n",
       "      <td>7.0</td>\n",
       "      <td>2118</td>\n",
       "      <td>[Francesco Bertolini, Adolfo Padovan]</td>\n",
       "      <td>[]</td>\n",
       "      <td>[Salvatore Papa, Arturo Pirovano, Giuseppe de ...</td>\n",
       "      <td>[]</td>\n",
       "      <td>Dante's Inferno</td>\n",
       "    </tr>\n",
       "    <tr>\n",
       "      <td>1</td>\n",
       "      <td>tt0002844</td>\n",
       "      <td>Fantômas: In the Shadow of the Guillotine</td>\n",
       "      <td>Fantômas - À l'ombre de la guillotine</td>\n",
       "      <td>1913</td>\n",
       "      <td>0</td>\n",
       "      <td>[Crime, Drama]</td>\n",
       "      <td>7.0</td>\n",
       "      <td>1893</td>\n",
       "      <td>[Louis Feuillade]</td>\n",
       "      <td>[]</td>\n",
       "      <td>[René Navarre, Edmund Breon, Georges Melchior,...</td>\n",
       "      <td>[Marcel Allain]</td>\n",
       "      <td>Fantômas: In the Shadow of the Guillotine::Fan...</td>\n",
       "    </tr>\n",
       "    <tr>\n",
       "      <td>2</td>\n",
       "      <td>tt0003037</td>\n",
       "      <td>Fantomas: The Man in Black</td>\n",
       "      <td>Juve contre Fantômas</td>\n",
       "      <td>1913</td>\n",
       "      <td>0</td>\n",
       "      <td>[Crime, Drama]</td>\n",
       "      <td>7.0</td>\n",
       "      <td>1320</td>\n",
       "      <td>[Louis Feuillade]</td>\n",
       "      <td>[]</td>\n",
       "      <td>[René Navarre, Edmund Breon, Georges Melchior,...</td>\n",
       "      <td>[Marcel Allain]</td>\n",
       "      <td>Fantomas: The Man in Black::Fantômas: Juve ver...</td>\n",
       "    </tr>\n",
       "    <tr>\n",
       "      <td>3</td>\n",
       "      <td>tt0003165</td>\n",
       "      <td>Fantômas: The Dead Man Who Killed</td>\n",
       "      <td>Le mort qui tue</td>\n",
       "      <td>1913</td>\n",
       "      <td>0</td>\n",
       "      <td>[Crime, Drama, Mystery]</td>\n",
       "      <td>7.0</td>\n",
       "      <td>1020</td>\n",
       "      <td>[Louis Feuillade]</td>\n",
       "      <td>[]</td>\n",
       "      <td>[René Navarre, Edmund Breon, Georges Melchior,...</td>\n",
       "      <td>[Marcel Allain]</td>\n",
       "      <td>Fantômas: The Dead Man Who Killed</td>\n",
       "    </tr>\n",
       "    <tr>\n",
       "      <td>4</td>\n",
       "      <td>tt0003419</td>\n",
       "      <td>The Student of Prague</td>\n",
       "      <td>Der Student von Prag</td>\n",
       "      <td>1913</td>\n",
       "      <td>0</td>\n",
       "      <td>[Drama, Fantasy, Horror]</td>\n",
       "      <td>6.5</td>\n",
       "      <td>1707</td>\n",
       "      <td>[Stellan Rye]</td>\n",
       "      <td>[]</td>\n",
       "      <td>[Paul Wegener, Grete Berger, Lyda Salmonova, J...</td>\n",
       "      <td>[Hanns Heinz Ewers]</td>\n",
       "      <td>A Bargain with Satan::The Student of Prague</td>\n",
       "    </tr>\n",
       "  </tbody>\n",
       "</table>\n",
       "</div>"
      ],
      "text/plain": [
       "     imdb_id                                      title  \\\n",
       "0  tt0002130                            Dante's Inferno   \n",
       "1  tt0002844  Fantômas: In the Shadow of the Guillotine   \n",
       "2  tt0003037                 Fantomas: The Man in Black   \n",
       "3  tt0003165          Fantômas: The Dead Man Who Killed   \n",
       "4  tt0003419                      The Student of Prague   \n",
       "\n",
       "                          original title  startYear  endYear  \\\n",
       "0                              L'Inferno       1911        0   \n",
       "1  Fantômas - À l'ombre de la guillotine       1913        0   \n",
       "2                   Juve contre Fantômas       1913        0   \n",
       "3                        Le mort qui tue       1913        0   \n",
       "4                   Der Student von Prag       1913        0   \n",
       "\n",
       "                         genre  imdb_rating  numVotes  \\\n",
       "0  [Adventure, Drama, Fantasy]          7.0      2118   \n",
       "1               [Crime, Drama]          7.0      1893   \n",
       "2               [Crime, Drama]          7.0      1320   \n",
       "3      [Crime, Drama, Mystery]          7.0      1020   \n",
       "4     [Drama, Fantasy, Horror]          6.5      1707   \n",
       "\n",
       "                               directors producers  \\\n",
       "0  [Francesco Bertolini, Adolfo Padovan]        []   \n",
       "1                      [Louis Feuillade]        []   \n",
       "2                      [Louis Feuillade]        []   \n",
       "3                      [Louis Feuillade]        []   \n",
       "4                          [Stellan Rye]        []   \n",
       "\n",
       "                                              actors              writers  \\\n",
       "0  [Salvatore Papa, Arturo Pirovano, Giuseppe de ...                   []   \n",
       "1  [René Navarre, Edmund Breon, Georges Melchior,...      [Marcel Allain]   \n",
       "2  [René Navarre, Edmund Breon, Georges Melchior,...      [Marcel Allain]   \n",
       "3  [René Navarre, Edmund Breon, Georges Melchior,...      [Marcel Allain]   \n",
       "4  [Paul Wegener, Grete Berger, Lyda Salmonova, J...  [Hanns Heinz Ewers]   \n",
       "\n",
       "                                          all_titles  \n",
       "0                                    Dante's Inferno  \n",
       "1  Fantômas: In the Shadow of the Guillotine::Fan...  \n",
       "2  Fantomas: The Man in Black::Fantômas: Juve ver...  \n",
       "3                  Fantômas: The Dead Man Who Killed  \n",
       "4        A Bargain with Satan::The Student of Prague  "
      ]
     },
     "execution_count": 160,
     "metadata": {},
     "output_type": "execute_result"
    }
   ],
   "source": [
    "df.head()"
   ]
  },
  {
   "cell_type": "code",
   "execution_count": 162,
   "metadata": {},
   "outputs": [
    {
     "name": "stdout",
     "output_type": "stream",
     "text": [
      "69470\n"
     ]
    }
   ],
   "source": [
    "database = df.to_dict(\"records\")\n",
    "for el in database:\n",
    "    el[\"genre\"] = el[\"genre\"] if el[\"genre\"] != \"\" else None\n",
    "    el[\"startYear\"] = el[\"startYear\"] if el[\"startYear\"] != 0 else None\n",
    "    el[\"endYear\"] = el[\"endYear\"] if el[\"endYear\"] != 0 else None\n",
    "    el[\"all_titles\"] = el[\"all_titles\"].split(\"::\") if el[\"all_titles\"] != \"\" else []\n",
    "    for prof in [\"director\", \"producer\", \"actor\", \"writer\"]:\n",
    "        el[f\"{prof}s\"] = list(el[f\"{prof}s\"]) if list(el[f\"{prof}s\"]) != \"\" else []\n",
    "\n",
    "print(len(database))\n",
    "with open(\"database_most_popular_main_info.json\", \"w\") as f:\n",
    "    json.dump(database, f, indent=2)"
   ]
  },
  {
   "cell_type": "code",
   "execution_count": 163,
   "metadata": {},
   "outputs": [
    {
     "data": {
      "text/plain": [
       "{'imdb_id': 'tt0015119',\n",
       " 'title': 'The Marriage Circle',\n",
       " 'original title': 'The Marriage Circle',\n",
       " 'startYear': 1924,\n",
       " 'endYear': None,\n",
       " 'genre': ['Comedy'],\n",
       " 'imdb_rating': 7.2,\n",
       " 'numVotes': 1023,\n",
       " 'directors': ['Ernst Lubitsch'],\n",
       " 'producers': [],\n",
       " 'actors': ['Florence Vidor', 'Monte Blue', 'Marie Prevost', 'Creighton Hale'],\n",
       " 'writers': ['Paul Bern'],\n",
       " 'all_titles': ['The Marriage Circle']}"
      ]
     },
     "execution_count": 163,
     "metadata": {},
     "output_type": "execute_result"
    }
   ],
   "source": [
    "database[100]"
   ]
  },
  {
   "cell_type": "code",
   "execution_count": null,
   "metadata": {},
   "outputs": [],
   "source": []
  }
 ],
 "metadata": {
  "kernelspec": {
   "display_name": "Py36Agent",
   "language": "python",
   "name": "py36_agent"
  },
  "language_info": {
   "codemirror_mode": {
    "name": "ipython",
    "version": 3
   },
   "file_extension": ".py",
   "mimetype": "text/x-python",
   "name": "python",
   "nbconvert_exporter": "python",
   "pygments_lexer": "ipython3",
   "version": "3.6.9"
  }
 },
 "nbformat": 4,
 "nbformat_minor": 4
}
